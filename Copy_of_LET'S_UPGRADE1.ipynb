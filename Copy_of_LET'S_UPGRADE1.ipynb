{
  "nbformat": 4,
  "nbformat_minor": 0,
  "metadata": {
    "colab": {
      "name": "Copy of LET'S UPGRADE1.ipynb",
      "provenance": [],
      "collapsed_sections": [],
      "authorship_tag": "ABX9TyN6Lu0BgKierC2V67mGQfW/",
      "include_colab_link": true
    },
    "kernelspec": {
      "name": "python3",
      "display_name": "Python 3"
    }
  },
  "cells": [
    {
      "cell_type": "markdown",
      "metadata": {
        "id": "view-in-github",
        "colab_type": "text"
      },
      "source": [
        "<a href=\"https://colab.research.google.com/github/Nithya-Satheesh/LETS-UPGRADE1/blob/main/Copy_of_LET'S_UPGRADE1.ipynb\" target=\"_parent\"><img src=\"https://colab.research.google.com/assets/colab-badge.svg\" alt=\"Open In Colab\"/></a>"
      ]
    },
    {
      "cell_type": "code",
      "metadata": {
        "id": "_uMvro8UvgNb",
        "outputId": "c3ea46c4-996d-4b49-f411-f815194aaa07",
        "colab": {
          "base_uri": "https://localhost:8080/"
        }
      },
      "source": [
        "#QUESTION 1\n",
        "#RAINBOW\n",
        "print(\"RAINBOW\")"
      ],
      "execution_count": null,
      "outputs": [
        {
          "output_type": "stream",
          "text": [
            "RAINBOW\n"
          ],
          "name": "stdout"
        }
      ]
    },
    {
      "cell_type": "code",
      "metadata": {
        "id": "u86KjuTkv6od",
        "outputId": "913832ea-ab5d-473a-b017-12de1751dc48",
        "colab": {
          "base_uri": "https://localhost:8080/"
        }
      },
      "source": [
        "#Question 2\n",
        "t='lets upgrade'\n",
        "print(t)\n",
        "print(t.upper())\n"
      ],
      "execution_count": null,
      "outputs": [
        {
          "output_type": "stream",
          "text": [
            "lets upgrade\n",
            "LETS UPGRADE\n"
          ],
          "name": "stdout"
        }
      ]
    },
    {
      "cell_type": "code",
      "metadata": {
        "id": "we-vxgCXwByF",
        "outputId": "7e2d3edd-edbb-4ba6-e1b7-b57cc614345a",
        "colab": {
          "base_uri": "https://localhost:8080/"
        }
      },
      "source": [
        "#Question 3\n",
        "cp = int(input())\n",
        "sp = int(input())\n",
        "\n",
        "if cp<sp:\n",
        "  print(\"Profit\")\n",
        "elif cp>sp:\n",
        "  print(\"Loss\")\n",
        "else:\n",
        "  print(\"Neither\")\n"
      ],
      "execution_count": 3,
      "outputs": [
        {
          "output_type": "stream",
          "text": [
            "20\n",
            "30\n",
            "Profit\n"
          ],
          "name": "stdout"
        }
      ]
    },
    {
      "cell_type": "code",
      "metadata": {
        "id": "R9HL_1-xwyYG",
        "outputId": "107899fc-42af-4070-b795-1370aaa3fddc",
        "colab": {
          "base_uri": "https://localhost:8080/"
        }
      },
      "source": [
        "#Question 4\n",
        "amt = int(input())\n",
        "euro = amt*80\n",
        "print(euro)\n",
        "\n"
      ],
      "execution_count": 2,
      "outputs": [
        {
          "output_type": "stream",
          "text": [
            "20\n",
            "1600\n"
          ],
          "name": "stdout"
        }
      ]
    }
  ]
}