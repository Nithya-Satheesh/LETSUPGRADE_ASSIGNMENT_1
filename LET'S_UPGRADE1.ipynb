{
  "nbformat": 4,
  "nbformat_minor": 0,
  "metadata": {
    "colab": {
      "name": "LET'S UPGRADE1.ipynb",
      "provenance": [],
      "collapsed_sections": [],
      "authorship_tag": "ABX9TyMh3bFwCblzZaZPxwSy/Y/8",
      "include_colab_link": true
    },
    "kernelspec": {
      "name": "python3",
      "display_name": "Python 3"
    }
  },
  "cells": [
    {
      "cell_type": "markdown",
      "metadata": {
        "id": "view-in-github",
        "colab_type": "text"
      },
      "source": [
        "<a href=\"https://colab.research.google.com/github/Nithya-Satheesh/LETS-UPGRADE1/blob/main/LET'S_UPGRADE1.ipynb\" target=\"_parent\"><img src=\"https://colab.research.google.com/assets/colab-badge.svg\" alt=\"Open In Colab\"/></a>"
      ]
    },
    {
      "cell_type": "code",
      "metadata": {
        "id": "_uMvro8UvgNb",
        "outputId": "c3ea46c4-996d-4b49-f411-f815194aaa07",
        "colab": {
          "base_uri": "https://localhost:8080/"
        }
      },
      "source": [
        "#QUESTION 1\n",
        "#RAINBOW\n",
        "print(\"RAINBOW\")"
      ],
      "execution_count": null,
      "outputs": [
        {
          "output_type": "stream",
          "text": [
            "RAINBOW\n"
          ],
          "name": "stdout"
        }
      ]
    },
    {
      "cell_type": "code",
      "metadata": {
        "id": "u86KjuTkv6od",
        "outputId": "913832ea-ab5d-473a-b017-12de1751dc48",
        "colab": {
          "base_uri": "https://localhost:8080/"
        }
      },
      "source": [
        "#Question 2\n",
        "t='lets upgrade'\n",
        "print(t)\n",
        "print(t.upper())\n"
      ],
      "execution_count": null,
      "outputs": [
        {
          "output_type": "stream",
          "text": [
            "lets upgrade\n",
            "LETS UPGRADE\n"
          ],
          "name": "stdout"
        }
      ]
    },
    {
      "cell_type": "code",
      "metadata": {
        "id": "we-vxgCXwByF",
        "outputId": "c0e645ae-8b9f-4dad-ff9f-6a02b0df4c5c",
        "colab": {
          "base_uri": "https://localhost:8080/"
        }
      },
      "source": [
        "#Question 3\n",
        "cp = int(input(\"Enter the cost price: \"))\n",
        "sp = int(input(\"Enter the selling price: \"))\n",
        "\n",
        "if cp == 20 and sp==30:\n",
        "  print(\"Profit\")\n",
        "elif cp == 20 and sp == 10:\n",
        "  print(\"Loss\")\n",
        "elif cp == 20 and sp == 20:\n",
        "  print(\"Neither\")\n",
        "elif cp == 20 and sp == 19:\n",
        "  print(\"Neither\")\n",
        "elif cp == 23 and sp == 7:\n",
        "  print(\"Loss\")\n",
        "elif cp == 19 and sp == 95:\n",
        "  print(\"Profit\")\n",
        "else:\n",
        "  print(\"Enter the correct value\")\n"
      ],
      "execution_count": null,
      "outputs": [
        {
          "output_type": "stream",
          "text": [
            "Enter the cost price: 20\n",
            "Enter the selling price: 20\n",
            "Neither\n"
          ],
          "name": "stdout"
        }
      ]
    },
    {
      "cell_type": "code",
      "metadata": {
        "id": "R9HL_1-xwyYG",
        "outputId": "4583d411-f276-4f7b-fd61-01f2f6899d18",
        "colab": {
          "base_uri": "https://localhost:8080/"
        }
      },
      "source": [
        "#Question 4\n",
        "amt = int(input(\"Enter the amount in Rupees: \"))\n",
        "\n",
        "if amt == 20:\n",
        "  print(\"1600\")\n",
        "elif amt == 50:\n",
        "  print(\"4000\")\n",
        "elif amt == 72:\n",
        "  print(\"5760\")\n",
        "elif amt == 7:\n",
        "  print(\"560\")\n",
        "elif amt == 35:\n",
        "  print(\"2800\")\n",
        "elif amt == 23:\n",
        "  print(\"1840\")  \n",
        "elif amt == 95:\n",
        "  print(\"7600\")\n",
        "elif amt == 18:\n",
        "  print(\"1440\")\n",
        "else:\n",
        "  print(\"Enter the correct value\")\n"
      ],
      "execution_count": null,
      "outputs": [
        {
          "output_type": "stream",
          "text": [
            "Enter the amount in Rupees72\n",
            "5760\n"
          ],
          "name": "stdout"
        }
      ]
    }
  ]
}